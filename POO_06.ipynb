{
  "nbformat": 4,
  "nbformat_minor": 0,
  "metadata": {
    "colab": {
      "provenance": []
    },
    "kernelspec": {
      "name": "python3",
      "display_name": "Python 3"
    },
    "language_info": {
      "name": "python"
    }
  },
  "cells": [
    {
      "cell_type": "markdown",
      "source": [
        "#Clases, herencias y polimorfismos"
      ],
      "metadata": {
        "id": "wt6mbGUZZL3y"
      }
    },
    {
      "cell_type": "code",
      "source": [
        "class Mascota():\n",
        "  # self = declarador de variables y funciones\n",
        "  def __init__(self):\n",
        "    print(\"Creamos una clase madre\")\n",
        "\n",
        "  def adivina(self):\n",
        "    print(\"Hola, soy un perro\")\n",
        "\n",
        "  def hablar(self):\n",
        "    print(\"Ladro\")\n",
        "\n",
        "  def color(self):\n",
        "    print(\"Soy color cafe\")\n",
        "\n",
        "  def gustos(self):\n",
        "    print(\"Me gustan las croquetas\")"
      ],
      "metadata": {
        "id": "cYVT5pi4ZRqd"
      },
      "execution_count": 22,
      "outputs": []
    },
    {
      "cell_type": "code",
      "source": [
        "#Llama a la clase \"mascota\"\n",
        "mascota = Mascota()"
      ],
      "metadata": {
        "colab": {
          "base_uri": "https://localhost:8080/"
        },
        "id": "FEj1kd47dS3i",
        "outputId": "21238ead-18eb-4a13-be7a-61dd7a5df8ec"
      },
      "execution_count": 23,
      "outputs": [
        {
          "output_type": "stream",
          "name": "stdout",
          "text": [
            "Creamos una clase madre\n"
          ]
        }
      ]
    },
    {
      "cell_type": "code",
      "source": [
        "#Llama al polimorfismo \"adivina\"\n",
        "mascota.adivina()"
      ],
      "metadata": {
        "colab": {
          "base_uri": "https://localhost:8080/"
        },
        "id": "s18dsoDld1WC",
        "outputId": "1df13ecf-9ed3-4066-ca58-69a5063be710"
      },
      "execution_count": 24,
      "outputs": [
        {
          "output_type": "stream",
          "name": "stdout",
          "text": [
            "Hola, soy un perro\n"
          ]
        }
      ]
    },
    {
      "cell_type": "code",
      "source": [
        "#Llama al polimorfismo \"hablar\"\n",
        "mascota.hablar()"
      ],
      "metadata": {
        "colab": {
          "base_uri": "https://localhost:8080/"
        },
        "id": "qeTb5Kned_vx",
        "outputId": "8024f6d3-144f-4f71-b8b6-03baa0b976ce"
      },
      "execution_count": 25,
      "outputs": [
        {
          "output_type": "stream",
          "name": "stdout",
          "text": [
            "Ladro\n"
          ]
        }
      ]
    },
    {
      "cell_type": "code",
      "source": [
        "#Llama al polimorfismo \"color\"\n",
        "mascota.color()"
      ],
      "metadata": {
        "colab": {
          "base_uri": "https://localhost:8080/"
        },
        "id": "jMT36J6Af4T1",
        "outputId": "0518faa0-e660-4731-ead0-2ed9c2f4f247"
      },
      "execution_count": 26,
      "outputs": [
        {
          "output_type": "stream",
          "name": "stdout",
          "text": [
            "Soy color cafe\n"
          ]
        }
      ]
    },
    {
      "cell_type": "code",
      "source": [
        "#Llama al polimorfismo \"gustos\"\n",
        "mascota.gustos()"
      ],
      "metadata": {
        "colab": {
          "base_uri": "https://localhost:8080/"
        },
        "id": "6N0h2lcsf842",
        "outputId": "c2d0bfc4-6eae-40fa-d6a6-2a5ab85edeeb"
      },
      "execution_count": 27,
      "outputs": [
        {
          "output_type": "stream",
          "name": "stdout",
          "text": [
            "Me gustan las croquetas\n"
          ]
        }
      ]
    },
    {
      "cell_type": "markdown",
      "source": [
        "##Crear una herencia"
      ],
      "metadata": {
        "id": "Qo_kSxfPgkss"
      }
    },
    {
      "cell_type": "code",
      "source": [
        "class Perro(Mascota):\n",
        "\n",
        "  def __init__(self):\n",
        "    #Trae las funciones de la clase madre\n",
        "    Mascota.__init__(self)\n",
        "    print(\"Creamos una clase heredada\")\n",
        "\n",
        "  def nombre(self):\n",
        "      print(\"Luna\")\n",
        "\n",
        "  def idioma(self):\n",
        "      print(\"WUAF\")\n",
        "\n",
        "  def adivina(self):\n",
        "      print(\"Golden\")"
      ],
      "metadata": {
        "id": "-uOfG8UAgnuf"
      },
      "execution_count": 28,
      "outputs": []
    },
    {
      "cell_type": "code",
      "source": [
        "perro  = Perro()"
      ],
      "metadata": {
        "colab": {
          "base_uri": "https://localhost:8080/"
        },
        "id": "vMljj7X9iQCs",
        "outputId": "857ffc82-2557-475f-da9b-23c719dd78a9"
      },
      "execution_count": 29,
      "outputs": [
        {
          "output_type": "stream",
          "name": "stdout",
          "text": [
            "Creamos una clase madre\n",
            "Creamos una clase heredada\n"
          ]
        }
      ]
    },
    {
      "cell_type": "code",
      "source": [
        "mascota.adivina()"
      ],
      "metadata": {
        "colab": {
          "base_uri": "https://localhost:8080/"
        },
        "id": "0INqP7pIkmAZ",
        "outputId": "370987d3-18d1-41ff-d379-f02bb67d5342"
      },
      "execution_count": 30,
      "outputs": [
        {
          "output_type": "stream",
          "name": "stdout",
          "text": [
            "Hola, soy un perro\n"
          ]
        }
      ]
    },
    {
      "cell_type": "code",
      "source": [
        "perro.idioma()"
      ],
      "metadata": {
        "colab": {
          "base_uri": "https://localhost:8080/"
        },
        "id": "gUy3uL37kpoS",
        "outputId": "2f4b26f0-1e93-4684-8906-892cc639f8c3"
      },
      "execution_count": 31,
      "outputs": [
        {
          "output_type": "stream",
          "name": "stdout",
          "text": [
            "WUAF\n"
          ]
        }
      ]
    },
    {
      "cell_type": "code",
      "source": [
        "perro.adivina()"
      ],
      "metadata": {
        "colab": {
          "base_uri": "https://localhost:8080/"
        },
        "id": "sdnHTXXQl4tH",
        "outputId": "4526a697-9800-486c-d1da-e15d41f47b46"
      },
      "execution_count": 32,
      "outputs": [
        {
          "output_type": "stream",
          "name": "stdout",
          "text": [
            "Golden\n"
          ]
        }
      ]
    },
    {
      "cell_type": "markdown",
      "source": [
        "##Ejercicio"
      ],
      "metadata": {
        "id": "0oCBbyzvmbKy"
      }
    },
    {
      "cell_type": "code",
      "source": [
        "class Yo():\n",
        "  def __init__(self):\n",
        "    print(\"Creamos una clase madre\")\n",
        "\n",
        "  def nombre(self):\n",
        "    print(\"Hola, soy Miguel Herrera\")\n",
        "\n",
        "  def genero(self):\n",
        "    print(\"Soy hombre\")\n",
        "\n",
        "  def edad(self):\n",
        "    print(\"Tengo 18 años\")\n"
      ],
      "metadata": {
        "id": "734Dc4SUmXSA"
      },
      "execution_count": 33,
      "outputs": []
    },
    {
      "cell_type": "code",
      "source": [
        "yo = Yo()"
      ],
      "metadata": {
        "colab": {
          "base_uri": "https://localhost:8080/"
        },
        "id": "HfgCkGSWnmte",
        "outputId": "dacab41b-1452-4500-8f0d-a0068319234e"
      },
      "execution_count": 34,
      "outputs": [
        {
          "output_type": "stream",
          "name": "stdout",
          "text": [
            "Creamos una clase madre\n"
          ]
        }
      ]
    },
    {
      "cell_type": "code",
      "source": [
        "yo.nombre()"
      ],
      "metadata": {
        "colab": {
          "base_uri": "https://localhost:8080/"
        },
        "id": "YUH4aN3Enpsc",
        "outputId": "d36d0537-9897-4ee6-adc4-786194b90cec"
      },
      "execution_count": 35,
      "outputs": [
        {
          "output_type": "stream",
          "name": "stdout",
          "text": [
            "Hola, soy Miguel Herrera\n"
          ]
        }
      ]
    },
    {
      "cell_type": "code",
      "source": [
        "yo.genero()"
      ],
      "metadata": {
        "colab": {
          "base_uri": "https://localhost:8080/"
        },
        "id": "c99g78amnsV7",
        "outputId": "296175cc-0ba0-4191-878d-9473a991f223"
      },
      "execution_count": 36,
      "outputs": [
        {
          "output_type": "stream",
          "name": "stdout",
          "text": [
            "Soy hombre\n"
          ]
        }
      ]
    },
    {
      "cell_type": "code",
      "source": [
        "yo.edad()"
      ],
      "metadata": {
        "colab": {
          "base_uri": "https://localhost:8080/"
        },
        "id": "qFUT8NQmnv6V",
        "outputId": "f0bf7e24-0bd1-463a-d0a3-cf379b03f08b"
      },
      "execution_count": 37,
      "outputs": [
        {
          "output_type": "stream",
          "name": "stdout",
          "text": [
            "Tengo 18 años\n"
          ]
        }
      ]
    },
    {
      "cell_type": "code",
      "source": [
        "class Caracteristicas(Yo):\n",
        "\n",
        "  def __init__(self):\n",
        "    Mascota.__init__(self)\n",
        "    print(\"Creamos una clase heredada\")\n",
        "\n",
        "  def deporte(self):\n",
        "      print(\"Me gusta el basketball\")\n",
        "\n",
        "  def comida(self):\n",
        "      print(\"Mi comida favorita es la pizza\")\n",
        "\n",
        "  def escuela(self):\n",
        "      print(\"Estudio en la Universidad Panamericana\")"
      ],
      "metadata": {
        "id": "sSYLBcX6nBH8"
      },
      "execution_count": 38,
      "outputs": []
    },
    {
      "cell_type": "code",
      "source": [
        "caracteristicas=Caracteristicas()"
      ],
      "metadata": {
        "colab": {
          "base_uri": "https://localhost:8080/"
        },
        "id": "sWkdjOK9nzuI",
        "outputId": "2f25110a-966f-4e63-ecdd-c9634cd04f10"
      },
      "execution_count": 39,
      "outputs": [
        {
          "output_type": "stream",
          "name": "stdout",
          "text": [
            "Creamos una clase madre\n",
            "Creamos una clase heredada\n"
          ]
        }
      ]
    },
    {
      "cell_type": "code",
      "source": [
        "caracteristicas.deporte()"
      ],
      "metadata": {
        "colab": {
          "base_uri": "https://localhost:8080/"
        },
        "id": "MFizLcSBn7oY",
        "outputId": "bf7338d3-543e-49c8-bbf4-c86e1a69a0c6"
      },
      "execution_count": 40,
      "outputs": [
        {
          "output_type": "stream",
          "name": "stdout",
          "text": [
            "Me gusta el basketball\n"
          ]
        }
      ]
    },
    {
      "cell_type": "code",
      "source": [
        "caracteristicas.comida()"
      ],
      "metadata": {
        "colab": {
          "base_uri": "https://localhost:8080/"
        },
        "id": "Bap5DqpVoEaL",
        "outputId": "a0f05364-5b59-40af-ef50-13636eeac9e9"
      },
      "execution_count": 41,
      "outputs": [
        {
          "output_type": "stream",
          "name": "stdout",
          "text": [
            "Mi comida favorita es la pizza\n"
          ]
        }
      ]
    },
    {
      "cell_type": "code",
      "source": [
        "caracteristicas.escuela()"
      ],
      "metadata": {
        "colab": {
          "base_uri": "https://localhost:8080/"
        },
        "id": "wwY9HjnZoGLy",
        "outputId": "dc051169-07e0-4902-8803-ec32212eefec"
      },
      "execution_count": 42,
      "outputs": [
        {
          "output_type": "stream",
          "name": "stdout",
          "text": [
            "Estudio en la Universidad Panamericana\n"
          ]
        }
      ]
    }
  ]
}