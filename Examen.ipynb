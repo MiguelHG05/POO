{
  "nbformat": 4,
  "nbformat_minor": 0,
  "metadata": {
    "colab": {
      "provenance": []
    },
    "kernelspec": {
      "name": "python3",
      "display_name": "Python 3"
    },
    "language_info": {
      "name": "python"
    }
  },
  "cells": [
    {
      "cell_type": "markdown",
      "source": [
        "#Examen"
      ],
      "metadata": {
        "id": "HugiUsYQ_v_k"
      }
    },
    {
      "cell_type": "code",
      "execution_count": 44,
      "metadata": {
        "id": "TYmpCRu1nKKF"
      },
      "outputs": [],
      "source": [
        "import numpy as np\n",
        "from math import sqrt\n",
        "class formulas(): #Crea la clase principal\n",
        "\n",
        "    def __init__(self, lado):\n",
        "      self.lado = lado\n",
        "\n",
        "class triangulo(formulas): #Clase heredada\n",
        "    def __init__(self, lado):\n",
        "        self.lado = lado\n",
        "\n",
        "    def area_triangulo(self): #Hace una definición del área del triángulo\n",
        "        area = (self.lado**2 * sqrt(3)) / 4 #Fórmula del área\n",
        "        print(f\"El area es de {area}\")\n",
        "\n",
        "    def perimetro_triangulo(self): #Hace una definición del perímetro del triángulo\n",
        "        perimetro = 3 * self.lado #Fórmula del perímetro\n",
        "        print(f\"El perimetro es de {perimetro}\")\n",
        "\n",
        "class matriz(formulas):\n",
        "    def __init__(self, M_matriz):\n",
        "        self.M_matriz = M_matriz\n",
        "        M = np.array(M_matriz).reshape(4,4) #Convierte la lista en una matriz 4x4\n",
        "        print(f\"La matriz es {M}\")  #Imprime la matriz\n",
        "\n",
        "class determinante(formulas):\n",
        "    def __init__(self, M_matriz):\n",
        "        M_matriz = M_matriz\n",
        "        M = np.array(M_matriz).reshape(4,4) #Convierte la lista en una matriz 4x4\n",
        "        Det = np.linalg.det(M) #Crea la determinante de la matriz\n",
        "        print(f\"La determinante de la matriz es {Det}\") #Imprime la determinante de la matriz"
      ]
    },
    {
      "cell_type": "code",
      "source": [
        "triangulo1 = triangulo(6)\n",
        "triangulo1.area_triangulo()\n",
        "triangulo1.perimetro_triangulo()"
      ],
      "metadata": {
        "colab": {
          "base_uri": "https://localhost:8080/"
        },
        "id": "4oWJmIYJ7gRf",
        "outputId": "0443fdb9-18a8-4257-9479-51184cf7c59a"
      },
      "execution_count": 45,
      "outputs": [
        {
          "output_type": "stream",
          "name": "stdout",
          "text": [
            "El area es de 15.588457268119894\n",
            "El perimetro es de 18\n"
          ]
        }
      ]
    },
    {
      "cell_type": "code",
      "source": [
        "matriz([2, 4, 14, 15, 8, 7, 20, 22, 4, 2, 6, 7, 5, 8, 2, 4])"
      ],
      "metadata": {
        "colab": {
          "base_uri": "https://localhost:8080/"
        },
        "id": "ssUXM_HX4RUq",
        "outputId": "d027b1c2-0428-4526-b908-ce0f49399e54"
      },
      "execution_count": 46,
      "outputs": [
        {
          "output_type": "stream",
          "name": "stdout",
          "text": [
            "La matriz es [[ 2  4 14 15]\n",
            " [ 8  7 20 22]\n",
            " [ 4  2  6  7]\n",
            " [ 5  8  2  4]]\n"
          ]
        },
        {
          "output_type": "execute_result",
          "data": {
            "text/plain": [
              "<__main__.matriz at 0x7ab5b5065030>"
            ]
          },
          "metadata": {},
          "execution_count": 46
        }
      ]
    },
    {
      "cell_type": "code",
      "source": [
        "determinante([2, 4, 14, 15, 8, 7, 20, 22, 4, 2, 6, 7, 5, 8, 2, 4])"
      ],
      "metadata": {
        "colab": {
          "base_uri": "https://localhost:8080/"
        },
        "id": "jFkhrILJ9-KG",
        "outputId": "ed4b5e28-4123-4243-8e9b-271ce62b5625"
      },
      "execution_count": 47,
      "outputs": [
        {
          "output_type": "stream",
          "name": "stdout",
          "text": [
            "La determinante de la matriz es -147.9999999999998\n"
          ]
        },
        {
          "output_type": "execute_result",
          "data": {
            "text/plain": [
              "<__main__.determinante at 0x7ab5b5066a70>"
            ]
          },
          "metadata": {},
          "execution_count": 47
        }
      ]
    }
  ]
}