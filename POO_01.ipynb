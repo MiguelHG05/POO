{
  "nbformat": 4,
  "nbformat_minor": 0,
  "metadata": {
    "colab": {
      "provenance": []
    },
    "kernelspec": {
      "name": "python3",
      "display_name": "Python 3"
    },
    "language_info": {
      "name": "python"
    }
  },
  "cells": [
    {
      "cell_type": "markdown",
      "source": [
        "# Primeros Objetos\n",
        "## Objetos en python\n",
        "### Hola\n",
        "1. Elemento de lista.\n",
        "2. Listas.\n",
        "3. Conjuntos.\n"
      ],
      "metadata": {
        "id": "ONSRAY_rw1S9"
      }
    },
    {
      "cell_type": "code",
      "source": [
        "print(\"Hola Mundo\")"
      ],
      "metadata": {
        "colab": {
          "base_uri": "https://localhost:8080/"
        },
        "id": "Q25MjN-Ew4We",
        "outputId": "9af59e4a-13ea-425f-fcab-56fc71d614ce"
      },
      "execution_count": 1,
      "outputs": [
        {
          "output_type": "stream",
          "name": "stdout",
          "text": [
            "Hola Mundo\n"
          ]
        }
      ]
    },
    {
      "cell_type": "markdown",
      "source": [
        "#Primeros objetos\n",
        "1. Números enteros\n",
        "2. Números flotantes"
      ],
      "metadata": {
        "id": "1xCKF0JYxG75"
      }
    },
    {
      "cell_type": "code",
      "source": [
        "# Crear variables\n",
        "x = 3\n",
        "y = 5"
      ],
      "metadata": {
        "id": "boPh9Qmfw7nX"
      },
      "execution_count": 2,
      "outputs": []
    },
    {
      "cell_type": "code",
      "source": [
        "print(x+y)\n",
        "print(x-y)\n",
        "print(x*y)\n",
        "print(x**y)\n",
        "print(x/y)\n",
        "print(x//y)\n",
        "print(x%y)"
      ],
      "metadata": {
        "colab": {
          "base_uri": "https://localhost:8080/"
        },
        "id": "JTkoIwj0w_CK",
        "outputId": "58d2b5aa-a0b7-4d77-d521-1b9211e56f07"
      },
      "execution_count": 3,
      "outputs": [
        {
          "output_type": "stream",
          "name": "stdout",
          "text": [
            "8\n",
            "-2\n",
            "15\n",
            "243\n",
            "0.6\n",
            "0\n",
            "3\n"
          ]
        }
      ]
    },
    {
      "cell_type": "code",
      "source": [
        "type(x+y)"
      ],
      "metadata": {
        "colab": {
          "base_uri": "https://localhost:8080/"
        },
        "id": "w5MD7tC6zemy",
        "outputId": "f5335212-764d-4817-832d-de06086a831b"
      },
      "execution_count": 4,
      "outputs": [
        {
          "output_type": "execute_result",
          "data": {
            "text/plain": [
              "int"
            ]
          },
          "metadata": {},
          "execution_count": 4
        }
      ]
    },
    {
      "cell_type": "code",
      "source": [
        "type(x/y)"
      ],
      "metadata": {
        "colab": {
          "base_uri": "https://localhost:8080/"
        },
        "id": "yrYtRkjfzhxJ",
        "outputId": "d8de583c-f396-4405-9ad3-ae9e3f97a05e"
      },
      "execution_count": 5,
      "outputs": [
        {
          "output_type": "execute_result",
          "data": {
            "text/plain": [
              "float"
            ]
          },
          "metadata": {},
          "execution_count": 5
        }
      ]
    }
  ]
}