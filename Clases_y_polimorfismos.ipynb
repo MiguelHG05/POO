{
  "cells": [
    {
      "cell_type": "markdown",
      "metadata": {
        "id": "GzgxmEWkrHQc"
      },
      "source": [
        "# Clases, herencia y polimorfismos"
      ]
    },
    {
      "cell_type": "markdown",
      "metadata": {
        "id": "XaYv_1XqrHQd"
      },
      "source": [
        "## Definiciones"
      ]
    },
    {
      "cell_type": "markdown",
      "metadata": {
        "id": "rFg5Mu_xrHQd"
      },
      "source": [
        "Las definiciones se crean de íntegramente (built-in) en Python. El método es `def`"
      ]
    },
    {
      "cell_type": "markdown",
      "metadata": {
        "id": "mFO_o8jWrHQe"
      },
      "source": [
        "Imaginemos que queremos crear una función global que salude a cierta persona."
      ]
    },
    {
      "cell_type": "code",
      "execution_count": 35,
      "metadata": {
        "id": "nLcdmD7brHQe"
      },
      "outputs": [],
      "source": [
        "#Define \"hola\" y le agrega un valor a x que dice \"Hola!\"\n",
        "def Hola( ):\n",
        "    x = \"Hola!\"\n",
        "    return x"
      ]
    },
    {
      "cell_type": "code",
      "execution_count": 36,
      "metadata": {
        "id": "rBPwCesDrHQe",
        "outputId": "a27c9a67-920e-4907-b45a-85a4ff3bef13",
        "colab": {
          "base_uri": "https://localhost:8080/",
          "height": 35
        }
      },
      "outputs": [
        {
          "output_type": "execute_result",
          "data": {
            "text/plain": [
              "'Hola!'"
            ],
            "application/vnd.google.colaboratory.intrinsic+json": {
              "type": "string"
            }
          },
          "metadata": {},
          "execution_count": 36
        }
      ],
      "source": [
        "#Muestra el mensaje de \"Hola\"\n",
        "Hola( )"
      ]
    },
    {
      "cell_type": "code",
      "execution_count": 37,
      "metadata": {
        "id": "8Bbn7tfbrHQf"
      },
      "outputs": [],
      "source": [
        "#Define \"Hi()\" y dice que cada vez que se use Hi() imprime (\"Hi!)\n",
        "def Hi():\n",
        "    print(\"Hi!\")"
      ]
    },
    {
      "cell_type": "code",
      "execution_count": 38,
      "metadata": {
        "id": "VyqR7A_frHQf",
        "outputId": "27e544ab-25b6-4921-eb09-9cb848c6ad6d",
        "colab": {
          "base_uri": "https://localhost:8080/"
        }
      },
      "outputs": [
        {
          "output_type": "stream",
          "name": "stdout",
          "text": [
            "Hi!\n"
          ]
        }
      ],
      "source": [
        "#Imprime lo que se había establecido antes\n",
        "Hi()"
      ]
    },
    {
      "cell_type": "code",
      "execution_count": 39,
      "metadata": {
        "id": "_V34ZAcXrHQf"
      },
      "outputs": [],
      "source": [
        "# Podemos crear una función que haga la concatenación de dos listas\n",
        "\n",
        "def conc(L,M):\n",
        "    x = L+M\n",
        "    return x"
      ]
    },
    {
      "cell_type": "code",
      "execution_count": 40,
      "metadata": {
        "id": "OxiWaUporHQf",
        "outputId": "f65bd891-0b61-4244-b97e-578e342cbe5e",
        "colab": {
          "base_uri": "https://localhost:8080/"
        }
      },
      "outputs": [
        {
          "output_type": "execute_result",
          "data": {
            "text/plain": [
              "5"
            ]
          },
          "metadata": {},
          "execution_count": 40
        }
      ],
      "source": [
        "#Suma 3 y 2  porque x = L+M entonces imprime el valor de x\n",
        "conc(3,2)"
      ]
    },
    {
      "cell_type": "code",
      "execution_count": 41,
      "metadata": {
        "id": "Ky25Smw2rHQf"
      },
      "outputs": [],
      "source": [
        "#Crea dos listas\n",
        "L = [1,2]\n",
        "M = [3,4]"
      ]
    },
    {
      "cell_type": "code",
      "execution_count": 42,
      "metadata": {
        "id": "15Z72cVHrHQg",
        "outputId": "efa5d0bf-1aa9-45c1-c688-1201eda4f7fd",
        "colab": {
          "base_uri": "https://localhost:8080/"
        }
      },
      "outputs": [
        {
          "output_type": "execute_result",
          "data": {
            "text/plain": [
              "[1, 2, 3, 4]"
            ]
          },
          "metadata": {},
          "execution_count": 42
        }
      ],
      "source": [
        "#Concatena las dos listas anteriores\n",
        "conc(L,M)"
      ]
    },
    {
      "cell_type": "code",
      "execution_count": 43,
      "metadata": {
        "id": "8uOD9nHkrHQg"
      },
      "outputs": [],
      "source": [
        "# Crear una definición que sume entrada dos listas\n",
        "\n",
        "def suma_vectores(v, w):\n",
        "    x = [v[i]+w[i] for i in range(0,3)]\n",
        "    return x"
      ]
    },
    {
      "cell_type": "code",
      "execution_count": 44,
      "metadata": {
        "id": "6Qs-psVgrHQg",
        "outputId": "25744c91-8a9c-4eab-d59c-0906af4078ee",
        "colab": {
          "base_uri": "https://localhost:8080/"
        }
      },
      "outputs": [
        {
          "output_type": "execute_result",
          "data": {
            "text/plain": [
              "[2, 4, 6]"
            ]
          },
          "metadata": {},
          "execution_count": 44
        }
      ],
      "source": [
        "#Suma los vectores\n",
        "suma_vectores( [1,2,3], [1,2,3] )"
      ]
    },
    {
      "cell_type": "markdown",
      "metadata": {
        "id": "LrNsXxFBrHQg"
      },
      "source": [
        "## Clases"
      ]
    },
    {
      "cell_type": "markdown",
      "metadata": {
        "id": "vMCM35IYrHQg"
      },
      "source": [
        "- No tomen argumentos\n",
        "- Muestra enunciados usando el método de inicialización `init`.\n",
        "- El método para crear clases es `class`."
      ]
    },
    {
      "cell_type": "code",
      "execution_count": 45,
      "metadata": {
        "id": "XPff2y3ZrHQg"
      },
      "outputs": [],
      "source": [
        "#Crea una clase con polimorfismos\n",
        "class Animal():\n",
        "\n",
        "    def _init_(self):\n",
        "        print(\"creamos una clase\")\n",
        "\n",
        "    def adivina(self):\n",
        "        print(\"Hola, soy un animal\")\n",
        "\n",
        "    def escribir(self):\n",
        "        print(\"Estoy escribiendo\")"
      ]
    },
    {
      "cell_type": "code",
      "execution_count": 45,
      "metadata": {
        "id": "IITa2dDKrHQg"
      },
      "outputs": [],
      "source": []
    },
    {
      "cell_type": "code",
      "execution_count": 46,
      "metadata": {
        "id": "rLonpJGnrHQh",
        "outputId": "dd684479-bb00-491c-f7f8-9d6948721751",
        "colab": {
          "base_uri": "https://localhost:8080/"
        }
      },
      "outputs": [
        {
          "output_type": "execute_result",
          "data": {
            "text/plain": [
              "__main__.Animal"
            ]
          },
          "metadata": {},
          "execution_count": 46
        }
      ],
      "source": [
        "#Dice el tipo de clase que es Animal\n",
        "type(Animal())"
      ]
    },
    {
      "cell_type": "code",
      "execution_count": 47,
      "metadata": {
        "id": "wxB16gYerHQh"
      },
      "outputs": [],
      "source": [
        "animal = Animal()"
      ]
    },
    {
      "cell_type": "code",
      "execution_count": 48,
      "metadata": {
        "id": "nyqC5jbtrHQh",
        "outputId": "eb726f90-084e-4649-d579-f4ea47e357f1",
        "colab": {
          "base_uri": "https://localhost:8080/"
        }
      },
      "outputs": [
        {
          "output_type": "stream",
          "name": "stdout",
          "text": [
            "Hola, soy un animal\n"
          ]
        }
      ],
      "source": [
        "#Llama al polimorfimsmo \"adivina\" de la clase \"animal\"\n",
        "animal.adivina()"
      ]
    },
    {
      "cell_type": "code",
      "execution_count": 49,
      "metadata": {
        "id": "j3oYhT21rHQh",
        "outputId": "2f4f0ffb-f517-410b-c916-5e7fdd291feb",
        "colab": {
          "base_uri": "https://localhost:8080/"
        }
      },
      "outputs": [
        {
          "output_type": "stream",
          "name": "stdout",
          "text": [
            "Estoy escribiendo\n"
          ]
        }
      ],
      "source": [
        "#Lo mismo que arriba\n",
        "animal.escribir()"
      ]
    },
    {
      "cell_type": "markdown",
      "metadata": {
        "id": "f9fhVjpnrHQh"
      },
      "source": [
        "## Herencia"
      ]
    },
    {
      "cell_type": "markdown",
      "metadata": {
        "id": "eVAMtIuhrHQh"
      },
      "source": [
        "Crear nuevas clases inherentes a métodos de la \"clase base\"."
      ]
    },
    {
      "cell_type": "code",
      "execution_count": 50,
      "metadata": {
        "id": "ndzWVnELrHQh"
      },
      "outputs": [],
      "source": [
        "#Crea una herencia de la clase \"Animal\", se puede decir que es una subclase\n",
        "class Perro(Animal):\n",
        "\n",
        "    def __init__(self):\n",
        "        Animal._init_(self)\n",
        "        print(\"Creamos una clase Perro\")\n",
        "\n",
        "    def adivina(self):\n",
        "        print(\"Soy Cleto\")\n",
        "\n",
        "    def wuaw(self):\n",
        "        print(\"WUAU\")"
      ]
    },
    {
      "cell_type": "code",
      "execution_count": 51,
      "metadata": {
        "id": "oJ9NjUTfrHQi",
        "outputId": "3e30aaca-6203-4359-e130-488bb24be97b",
        "colab": {
          "base_uri": "https://localhost:8080/"
        }
      },
      "outputs": [
        {
          "output_type": "stream",
          "name": "stdout",
          "text": [
            "creamos una clase\n",
            "Creamos una clase Perro\n"
          ]
        }
      ],
      "source": [
        "#Ahora la clase Perro() va a ser perro\n",
        "perro = Perro()"
      ]
    },
    {
      "cell_type": "code",
      "execution_count": 52,
      "metadata": {
        "id": "Qk4tIszerHQi",
        "outputId": "48cd42c1-596e-47ea-838a-a3b558ffc89d",
        "colab": {
          "base_uri": "https://localhost:8080/"
        }
      },
      "outputs": [
        {
          "output_type": "execute_result",
          "data": {
            "text/plain": [
              "<__main__.Perro at 0x7e744f8ccac0>"
            ]
          },
          "metadata": {},
          "execution_count": 52
        }
      ],
      "source": [
        "#Dice que es una clase ya creada\n",
        "perro"
      ]
    },
    {
      "cell_type": "code",
      "execution_count": 53,
      "metadata": {
        "id": "dtL4ZeyKrHQi",
        "outputId": "4fce721d-b7b1-4e5f-8fc9-92ce114cdfe9",
        "colab": {
          "base_uri": "https://localhost:8080/"
        }
      },
      "outputs": [
        {
          "output_type": "stream",
          "name": "stdout",
          "text": [
            "Hola, soy un animal\n",
            "None\n",
            "Soy Cleto\n",
            "None\n"
          ]
        }
      ],
      "source": [
        "print(animal.adivina())\n",
        "print(perro.adivina())"
      ]
    },
    {
      "cell_type": "code",
      "execution_count": 54,
      "metadata": {
        "id": "W6Z5lhb8rHQi",
        "outputId": "66d8237b-be49-4bad-dbe9-04afc00a569c",
        "colab": {
          "base_uri": "https://localhost:8080/"
        }
      },
      "outputs": [
        {
          "output_type": "stream",
          "name": "stdout",
          "text": [
            "WUAU\n"
          ]
        }
      ],
      "source": [
        "#Imprime lo que hay en \"wuaw\"\n",
        "perro.wuaw()"
      ]
    },
    {
      "cell_type": "code",
      "execution_count": 55,
      "metadata": {
        "id": "YF6nfpG0rHQi",
        "outputId": "de3a672e-5d0b-488c-f2c8-25ee89d2e736",
        "colab": {
          "base_uri": "https://localhost:8080/"
        }
      },
      "outputs": [
        {
          "output_type": "stream",
          "name": "stdout",
          "text": [
            "Soy Cleto\n"
          ]
        }
      ],
      "source": [
        "#Lo mismo que arriba\n",
        "perro.adivina()"
      ]
    },
    {
      "cell_type": "markdown",
      "metadata": {
        "id": "bT-ZKxvcrHQi"
      },
      "source": [
        "### Ejemplo"
      ]
    },
    {
      "cell_type": "code",
      "execution_count": 56,
      "metadata": {
        "id": "AHeY01W3rHQi"
      },
      "outputs": [],
      "source": [
        "#Crea una clase\n",
        "class Fecha():\n",
        "\n",
        "    def _init_(self):\n",
        "        print(\"creamos una clase que da la fecha\")\n",
        "\n",
        "    def fecha(self):\n",
        "        return \"2022-25-08\"\n"
      ]
    },
    {
      "cell_type": "code",
      "execution_count": 57,
      "metadata": {
        "id": "TnbqWq0-rHQj"
      },
      "outputs": [],
      "source": [
        "#La clase Fecha() ahora también se llama f\n",
        "f = Fecha()"
      ]
    },
    {
      "cell_type": "code",
      "execution_count": 58,
      "metadata": {
        "id": "DqI49nAHrHQj",
        "outputId": "d08f558e-10e7-427a-a100-541efebdf0df",
        "colab": {
          "base_uri": "https://localhost:8080/",
          "height": 35
        }
      },
      "outputs": [
        {
          "output_type": "execute_result",
          "data": {
            "text/plain": [
              "'2022-25-08'"
            ],
            "application/vnd.google.colaboratory.intrinsic+json": {
              "type": "string"
            }
          },
          "metadata": {},
          "execution_count": 58
        }
      ],
      "source": [
        "#Dice lo que hay en el polimorfismo \"fecha\"\n",
        "f.fecha()"
      ]
    },
    {
      "cell_type": "code",
      "execution_count": 59,
      "metadata": {
        "id": "V38tHADjrHQj"
      },
      "outputs": [],
      "source": [
        "#Hace una clase heredada\n",
        "class Tiempo(Fecha):\n",
        "\n",
        "    def _init_(self):\n",
        "        Fecha._init_(self)\n",
        "        print(\"Creamos una clase Tiempo\")\n",
        "\n",
        "    def hora(self):\n",
        "        return \"7:00\""
      ]
    },
    {
      "cell_type": "code",
      "execution_count": 60,
      "metadata": {
        "id": "VdIbSawHrHQj",
        "outputId": "3ab91714-e67b-4860-e945-f02d5accb778",
        "colab": {
          "base_uri": "https://localhost:8080/",
          "height": 35
        }
      },
      "outputs": [
        {
          "output_type": "execute_result",
          "data": {
            "text/plain": [
              "'7:00'"
            ],
            "application/vnd.google.colaboratory.intrinsic+json": {
              "type": "string"
            }
          },
          "metadata": {},
          "execution_count": 60
        }
      ],
      "source": [
        "#Hace lo mismo que en la clase pasada\n",
        "t = Tiempo()\n",
        "\n",
        "t.hora()"
      ]
    },
    {
      "cell_type": "markdown",
      "metadata": {
        "id": "aulKEFl8rHQj"
      },
      "source": [
        "### Métodos objeto"
      ]
    },
    {
      "cell_type": "markdown",
      "metadata": {
        "id": "dp-cd425rHQj"
      },
      "source": [
        "`_init_` inicializa la clase base.\n",
        "`__init__` inicializa la clase base y sirve como constructor. Ojo: se ponen dos guiones abajo al principio y al final."
      ]
    },
    {
      "cell_type": "code",
      "execution_count": 61,
      "metadata": {
        "id": "ThcCeFVdrHQj"
      },
      "outputs": [],
      "source": [
        "class Persona():\n",
        "\n",
        "    def __init__(self, nombre):\n",
        "        self.nombre = nombre\n",
        "\n",
        "    def greet(self):\n",
        "        #Cada vez que se imprima \"greet\" va a imprimir el nombre en self.nombre\n",
        "        print(\"Hola, mi nombre es\", self.nombre)"
      ]
    },
    {
      "cell_type": "code",
      "execution_count": 62,
      "metadata": {
        "id": "__t9xG28rHQk"
      },
      "outputs": [],
      "source": [
        "#Se le asigna el nombre \"Mike\"\n",
        "p = Persona(\"Mike\")"
      ]
    },
    {
      "cell_type": "code",
      "execution_count": 63,
      "metadata": {
        "id": "LPKdyYCBrHQk",
        "outputId": "63867ca1-b29f-41d8-d4aa-354676f61765",
        "colab": {
          "base_uri": "https://localhost:8080/"
        }
      },
      "outputs": [
        {
          "output_type": "stream",
          "name": "stdout",
          "text": [
            "Hola, mi nombre es Mike\n"
          ]
        }
      ],
      "source": [
        "p.greet()"
      ]
    },
    {
      "cell_type": "code",
      "execution_count": 64,
      "metadata": {
        "id": "N0-U4jmWrHQk"
      },
      "outputs": [],
      "source": [
        "#Hace un inicializador que crea argumentos en este caso son \"real\" e \"imaginaria\"\n",
        "class Complex():\n",
        "\n",
        "    def __init__(self, real, imaginaria):\n",
        "        self.r = real\n",
        "        self.i = imaginaria"
      ]
    },
    {
      "cell_type": "code",
      "execution_count": 65,
      "metadata": {
        "id": "oD84VSxirHQk"
      },
      "outputs": [],
      "source": [
        "#r = 3 y i = 4\n",
        "z = Complex(3.0,4.0)"
      ]
    },
    {
      "cell_type": "code",
      "execution_count": 66,
      "metadata": {
        "id": "8jLfNq1orHQk",
        "outputId": "1a9c42c2-1479-47b5-f385-76862c03480d",
        "colab": {
          "base_uri": "https://localhost:8080/"
        }
      },
      "outputs": [
        {
          "output_type": "execute_result",
          "data": {
            "text/plain": [
              "3.0"
            ]
          },
          "metadata": {},
          "execution_count": 66
        }
      ],
      "source": [
        "z.r"
      ]
    },
    {
      "cell_type": "code",
      "execution_count": 67,
      "metadata": {
        "id": "f8gO0qyZrHQl",
        "outputId": "e96bbf48-9c6d-4ee3-e99b-29a2a6bfeeee",
        "colab": {
          "base_uri": "https://localhost:8080/"
        }
      },
      "outputs": [
        {
          "output_type": "execute_result",
          "data": {
            "text/plain": [
              "4.0"
            ]
          },
          "metadata": {},
          "execution_count": 67
        }
      ],
      "source": [
        "z.i"
      ]
    },
    {
      "cell_type": "code",
      "execution_count": 68,
      "metadata": {
        "id": "RlH7D0C5rHQl"
      },
      "outputs": [],
      "source": [
        "class Perro():\n",
        "\n",
        "    animal = \"perrito\"\n",
        "\n",
        "    def __init__(self, Raza, Color, Edad):\n",
        "        self.Raza = Raza\n",
        "        self.Color = Color\n",
        "        self.Edad = Edad\n"
      ]
    },
    {
      "cell_type": "code",
      "execution_count": 69,
      "metadata": {
        "id": "3XmcyuaurHQl"
      },
      "outputs": [],
      "source": [
        "#Pug se le asigna a \"Raza\", beige a \"Color\" y viejito a \"Edad\"\n",
        "Cleto = Perro(\"Pug\", \"beige\", \"viejito\")"
      ]
    },
    {
      "cell_type": "code",
      "execution_count": 70,
      "metadata": {
        "id": "nz5-UyUtrHQl",
        "outputId": "80c5a196-b075-4266-c257-60ea23ccf359",
        "colab": {
          "base_uri": "https://localhost:8080/"
        }
      },
      "outputs": [
        {
          "output_type": "stream",
          "name": "stdout",
          "text": [
            "Cleto detalles:\n",
            "Cleto es un perrito\n",
            "La raza de Cleto es Pug\n",
            "El color de Cleto es beige\n",
            "La edad de Cleto es viejito\n"
          ]
        }
      ],
      "source": [
        "#Se crean varios print que utilizan los argumentos \"Raza\", \"Color\" y \"Edad\"\n",
        "print(\"Cleto detalles:\")\n",
        "\n",
        "print(\"Cleto es un\", Cleto.animal)\n",
        "\n",
        "print(\"La raza de Cleto es\", Cleto.Raza)\n",
        "\n",
        "print(\"El color de Cleto es\", Cleto.Color)\n",
        "\n",
        "print(\"La edad de Cleto es\", Cleto.Edad)"
      ]
    },
    {
      "cell_type": "markdown",
      "metadata": {
        "id": "ya-c5WwRrHQl"
      },
      "source": [
        "## Otro ejemplo"
      ]
    },
    {
      "cell_type": "code",
      "execution_count": 71,
      "metadata": {
        "id": "-O6oCpIArHQl"
      },
      "outputs": [],
      "source": [
        "class Empleados():\n",
        "    #Establece que hay 0 empleados\n",
        "    Conteo = 0\n",
        "\n",
        "    def __init__(self, nombre, salario):\n",
        "        self.nombre = nombre\n",
        "        self.salario = salario\n",
        "        Empleados.Conteo += 1 #Agrega cada vez un empleado\n",
        "\n",
        "    def conteo(self):\n",
        "        print(\"Empleados %d\" % Empleados.Conteo)\n",
        "\n",
        "\n",
        "    def empleado(self):\n",
        "        print(\"Nombre:\", self.nombre, \",Salario:\", self.salario)"
      ]
    },
    {
      "cell_type": "code",
      "execution_count": 72,
      "metadata": {
        "id": "_-VfeReKrHQm"
      },
      "outputs": [],
      "source": [
        "# Establece el nombre del empleado y su salario\n",
        "emp1 = Empleados(\"Carlos\", 10000)"
      ]
    },
    {
      "cell_type": "code",
      "source": [
        "emp1.empleado()"
      ],
      "metadata": {
        "id": "1GiQjfpU5w4s",
        "outputId": "f953c2d3-6af2-4f15-dca1-352daca02a04",
        "colab": {
          "base_uri": "https://localhost:8080/"
        }
      },
      "execution_count": 73,
      "outputs": [
        {
          "output_type": "stream",
          "name": "stdout",
          "text": [
            "Nombre: Carlos ,Salario: 10000\n"
          ]
        }
      ]
    },
    {
      "cell_type": "code",
      "execution_count": 74,
      "metadata": {
        "id": "42H-_UsmrHQm"
      },
      "outputs": [],
      "source": [
        "emp2 = Empleados(\"Esteban\", 30000)"
      ]
    },
    {
      "cell_type": "code",
      "execution_count": 75,
      "metadata": {
        "id": "JTK5tvKerHQm",
        "outputId": "ca8fa0a0-63c1-4dd6-f104-31c0b63d7405",
        "colab": {
          "base_uri": "https://localhost:8080/"
        }
      },
      "outputs": [
        {
          "output_type": "stream",
          "name": "stdout",
          "text": [
            "Nombre: Esteban ,Salario: 30000\n"
          ]
        }
      ],
      "source": [
        "emp2.empleado()"
      ]
    },
    {
      "cell_type": "code",
      "execution_count": 76,
      "metadata": {
        "id": "I1zbKIvgrHQm",
        "outputId": "b34bf3de-2119-4c34-b35d-4d95fd9329e6",
        "colab": {
          "base_uri": "https://localhost:8080/"
        }
      },
      "outputs": [
        {
          "output_type": "execute_result",
          "data": {
            "text/plain": [
              "2"
            ]
          },
          "metadata": {},
          "execution_count": 76
        }
      ],
      "source": [
        "Empleados.Conteo"
      ]
    },
    {
      "cell_type": "code",
      "execution_count": 77,
      "metadata": {
        "id": "66tloWY4rHQm",
        "outputId": "6273b30c-0ffc-4a1e-a77b-f47f4812d423",
        "colab": {
          "base_uri": "https://localhost:8080/"
        }
      },
      "outputs": [
        {
          "output_type": "stream",
          "name": "stdout",
          "text": [
            "Total de empleados 4\n"
          ]
        }
      ],
      "source": [
        "#Cada vez que corre el código se agregan dos empleados más en este caso Esteban y Carlos\n",
        "emp1 = Empleados(\"Carlos\", 10000)\n",
        "emp2 = Empleados(\"Esteban\", 30000)\n",
        "\n",
        "print(\"Total de empleados %d\" % Empleados.Conteo)"
      ]
    },
    {
      "cell_type": "markdown",
      "metadata": {
        "id": "AvV1KNjRrHQm"
      },
      "source": [
        "## Clases, herencias y polimorfismos"
      ]
    },
    {
      "cell_type": "code",
      "execution_count": 78,
      "metadata": {
        "id": "8emfc6qOrHQm"
      },
      "outputs": [],
      "source": [
        "#En esencia es lo mismo a las otras clases, pero aqui se le asigna a una propiedad las variables, en este caso es \"last_name, first_name, age\"\n",
        "class Person:\n",
        "\n",
        "    def __init__(self, last_name, first_name, age):\n",
        "        self.__last_name = last_name\n",
        "        self.__first_name = first_name\n",
        "        self.__age = age\n",
        "\n",
        "    @property\n",
        "    def last_name(self):\n",
        "        return self.__last_name\n",
        "\n",
        "    @property\n",
        "    def first_name(self):\n",
        "        return self.__first_name\n",
        "\n",
        "    @property\n",
        "    def age(self):\n",
        "        return self.__age"
      ]
    },
    {
      "cell_type": "code",
      "execution_count": 79,
      "metadata": {
        "id": "CGGdbKDPrHQn",
        "outputId": "f97e0f51-15c9-45fb-c78b-1d84240ef3c8",
        "colab": {
          "base_uri": "https://localhost:8080/"
        }
      },
      "outputs": [
        {
          "output_type": "stream",
          "name": "stdout",
          "text": [
            "Gal\n",
            "César\n"
          ]
        }
      ],
      "source": [
        "#Imprime el \"last_name\" y \"first_name\". Que en este caso se definieron como \"Gal\" y \"Cesar\"\n",
        "cesar = Person(\"Gal\", \"César\", 25)\n",
        "print(cesar.last_name)\n",
        "print(cesar.first_name)"
      ]
    },
    {
      "cell_type": "code",
      "execution_count": 80,
      "metadata": {
        "id": "7beysN2irHQn",
        "outputId": "6f3664c6-91f0-489b-a5cd-4b6b5f3cee2a",
        "colab": {
          "base_uri": "https://localhost:8080/"
        }
      },
      "outputs": [
        {
          "output_type": "stream",
          "name": "stdout",
          "text": [
            "True\n",
            "True\n"
          ]
        }
      ],
      "source": [
        "#Código para saber si un número es primo\n",
        "class PrimeNumber:\n",
        "    def __init__(self, number):\n",
        "        self.number = number\n",
        "    #Dice que si el número es menor a 2 entonces no es número primo\n",
        "    def is_prime(self):\n",
        "        if self.number < 2:\n",
        "            return False\n",
        "    #Si al ser dividido entre 2 su residuo da 0 entonces no es primo\n",
        "        for i in range(2, int(self.number ** 0.5) + 1):\n",
        "            if self.number % i == 0:\n",
        "                return False\n",
        "    #Si no se cumple ninguna de las anteriores condiciones es primo\n",
        "        return True\n",
        "\n",
        "class PositivePrimeNumber(PrimeNumber):\n",
        "    def __init__(self, number):\n",
        "      #Si el número es negativo marca error\n",
        "        if number <= 0:\n",
        "            raise ValueError(\"El número debe ser positivo\")\n",
        "        super().__init__(number)\n",
        "\n",
        "# Example usage:\n",
        "num1 = PrimeNumber(7)\n",
        "print(num1.is_prime())  # Output: True\n",
        "\n",
        "num2 = PositivePrimeNumber(11)\n",
        "print(num2.is_prime())  # Output: True"
      ]
    },
    {
      "cell_type": "code",
      "execution_count": 80,
      "metadata": {
        "id": "Dry4YacrrHQn"
      },
      "outputs": [],
      "source": []
    }
  ],
  "metadata": {
    "kernelspec": {
      "display_name": "Python 3 (ipykernel)",
      "language": "python",
      "name": "python3"
    },
    "language_info": {
      "codemirror_mode": {
        "name": "ipython",
        "version": 3
      },
      "file_extension": ".py",
      "mimetype": "text/x-python",
      "name": "python",
      "nbconvert_exporter": "python",
      "pygments_lexer": "ipython3",
      "version": "3.9.13"
    },
    "colab": {
      "provenance": []
    }
  },
  "nbformat": 4,
  "nbformat_minor": 0
}