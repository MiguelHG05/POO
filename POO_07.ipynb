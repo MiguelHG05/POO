{
  "nbformat": 4,
  "nbformat_minor": 0,
  "metadata": {
    "colab": {
      "provenance": []
    },
    "kernelspec": {
      "name": "python3",
      "display_name": "Python 3"
    },
    "language_info": {
      "name": "python"
    }
  },
  "cells": [
    {
      "cell_type": "markdown",
      "source": [
        "## Ejercicios POO"
      ],
      "metadata": {
        "id": "TgBu7yBbjvVR"
      }
    },
    {
      "cell_type": "markdown",
      "source": [
        "\n",
        "\n",
        "1.   Describe cuáles son las diferencias entre clases y objetos.   \n",
        "Las clases almacenan los objetos, mientras los objetos son establecidos por el programador\n",
        "2. Describe por qué usamos self como primer argumento en los métodos.    \n",
        "Se utiliza para acceder a los atributos que se pusieron en la misma clase\n",
        "3. ¿Qué es un constructor? ¿Y por qué lo usamos?\n",
        "Método que se ejecuta al crear un objeto y se usa para usar los atributos\n",
        "4. Describir las diferencias entre los atributos de clase y de instancia.\n",
        "Los atributos son definiciones y los métodos se usan para saber que tipo de objeto hay\n",
        "5. La siguiente es una definición de la clase Punto que toma las coordenadas x, y. Agregue un método plot_point que trace la posición del punto.\n",
        "\n",
        "6. Documenta y prueba con algunos puntos el siguiente código:\n",
        "\n",
        "```\n",
        "#\n",
        "import matplotlib.pyplot as plt\n",
        "#Crea la clase \"Punto\" y le atribuye x, y\n",
        "class Punto():\n",
        "    def __init__(self, x, y):\n",
        "        self.x = x\n",
        "        self.y = y\n",
        "#Es o necesario para poder crear la gráfica\n",
        "    def plot(self):\n",
        "        plt.scatter(self.x, self.y, color='red', marker='o')\n",
        "        plt.xlabel('X-axis')\n",
        "        plt.ylabel('Y-axis')\n",
        "        plt.title('Gráfica del punto')\n",
        "        plt.grid(True)\n",
        "        plt.show()\n",
        "```\n",
        "\n",
        "7. Cree una clase para modelar algún objeto del mundo real y cree una nueva clase para heredar de él. Un ejemplo puede ser el siguiente. Deberías usar un ejemplo diferente y usar tantas cosas que aprendimos como sea posible.\n",
        "\n",
        "\n",
        "\n",
        "```\n",
        "# class Carro():\n",
        "    def __init__(self, marca, color):\n",
        "        self.marca = marca\n",
        "        self.color = color\n",
        "    \n",
        "    def encender(self):\n",
        "        print('!Listo para conducir!')\n",
        "        \n",
        "class Camioneta(Carro):\n",
        "    def __init__(self, marca, color, tamaño):\n",
        "        super().__init__(marca, color)\n",
        "        self.tamaño = tamaño\n",
        "        \n",
        "    def encender(self, llave):\n",
        "        if llave == 'llave_camioneta':\n",
        "            print('¡Listo para conducir!')\n",
        "        else:\n",
        "            print('La llave no es la correcta')\n",
        "            \n",
        "    def apagar(self, apagar):\n",
        "        if apagar:\n",
        "            print('¡El motor está apagado!')\n",
        "        else:\n",
        "            print('¡Sigo conduciendo!')\n",
        "\n",
        "```\n",
        "\n",
        "\n",
        "\n"
      ],
      "metadata": {
        "id": "OlqRnXzXhqwb"
      }
    },
    {
      "cell_type": "code",
      "source": [
        "class Computadora():\n",
        "    def __init__(self, marca, color, año):\n",
        "        self.marca = marca\n",
        "        self.color = color\n",
        "        self.año = año\n",
        "\n",
        "    def encender(self):\n",
        "        print(f'Mi computadora {self.marca} de color {self.color} del {self.año} está encendiéndose')\n",
        "\n",
        "class Compu(Computadora):\n",
        "    def __init__(self, marca, color, año, pila_1):\n",
        "      super().__init__(marca, color, año)\n",
        "      self.pila_1 = pila_1\n",
        "\n",
        "    def pila(self):\n",
        "      print(f'Mi computadora {self.marca} de color {self.color} del {self.año} tiene {self.pila} de pila')\n",
        "\n",
        "    def estado(self):\n",
        "      print(f'Mi computadora {self.marca} de color {self.color} del {self.año} es funcional')"
      ],
      "metadata": {
        "id": "7skCcYA0icoq"
      },
      "execution_count": 17,
      "outputs": []
    },
    {
      "cell_type": "code",
      "source": [
        "compu = Compu(\"Asus\", \"negro\", 2016, 80)\n",
        "compu.encender()\n",
        "compu.pila()\n",
        "compu.estado()"
      ],
      "metadata": {
        "colab": {
          "base_uri": "https://localhost:8080/"
        },
        "id": "9g2cIUHQ9RvR",
        "outputId": "7849947d-73c4-4386-acfc-0d075ea32aa9"
      },
      "execution_count": 18,
      "outputs": [
        {
          "output_type": "stream",
          "name": "stdout",
          "text": [
            "Mi computadora Asus de color negro del 2016 está encendiéndose\n",
            "Mi computadora Asus de color negro del 2016 tiene <bound method Compu.pila of <__main__.Compu object at 0x7fc222286530>> de pila\n",
            "Mi computadora Asus de color negro del 2016 es funcional\n"
          ]
        }
      ]
    }
  ]
}